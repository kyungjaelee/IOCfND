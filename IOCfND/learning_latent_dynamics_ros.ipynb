{
 "cells": [
  {
   "cell_type": "code",
   "execution_count": 1,
   "metadata": {},
   "outputs": [
    {
     "name": "stderr",
     "output_type": "stream",
     "text": [
      "/usr/local/lib/python2.7/dist-packages/h5py/__init__.py:36: FutureWarning: Conversion of the second argument of issubdtype from `float` to `np.floating` is deprecated. In future, it will be treated as `np.float64 == np.dtype(float).type`.\n",
      "  from ._conv import register_converters as _register_converters\n"
     ]
    }
   ],
   "source": [
    "import pickle\n",
    "import numpy as np\n",
    "import tensorflow as tf"
   ]
  },
  {
   "cell_type": "code",
   "execution_count": 2,
   "metadata": {},
   "outputs": [
    {
     "name": "stdout",
     "output_type": "stream",
     "text": [
      "(216, 800, 800, 3)\n",
      "(216, 2)\n",
      "(216,)\n",
      "(216, 10)\n"
     ]
    }
   ],
   "source": [
    "with open('training_data.pickle', 'rb') as handle:\n",
    "    training_data = pickle.load(handle)\n",
    "    \n",
    "imu_list = training_data['imu_list']\n",
    "cmd_list = training_data['cmd_list']\n",
    "img_list = training_data['img_list']\n",
    "pcl_list = training_data['pcl_list']\n",
    "\n",
    "print(img_list.shape)\n",
    "print(cmd_list.shape)\n",
    "print(pcl_list.shape)\n",
    "print(imu_list.shape)"
   ]
  },
  {
   "cell_type": "code",
   "execution_count": null,
   "metadata": {},
   "outputs": [],
   "source": [
    "imu_ph = tf.placeholder(tf.float32,shape=[],name=\"imu\")"
   ]
  },
  {
   "cell_type": "code",
   "execution_count": null,
   "metadata": {},
   "outputs": [],
   "source": []
  }
 ],
 "metadata": {
  "kernelspec": {
   "display_name": "Python 2",
   "language": "python",
   "name": "python2"
  },
  "language_info": {
   "codemirror_mode": {
    "name": "ipython",
    "version": 2
   },
   "file_extension": ".py",
   "mimetype": "text/x-python",
   "name": "python",
   "nbconvert_exporter": "python",
   "pygments_lexer": "ipython2",
   "version": "2.7.12"
  }
 },
 "nbformat": 4,
 "nbformat_minor": 2
}
