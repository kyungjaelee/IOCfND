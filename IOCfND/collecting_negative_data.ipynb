{
 "cells": [
  {
   "cell_type": "code",
   "execution_count": 2,
   "metadata": {},
   "outputs": [],
   "source": [
    "import gym\n",
    "\n",
    "from collections import deque\n",
    "\n",
    "import numpy as np\n",
    "import scipy.signal\n",
    "\n",
    "import tensorflow as tf\n",
    "from sklearn.utils import shuffle\n",
    "\n",
    "seed = 0\n",
    "np.random.seed(seed)"
   ]
  },
  {
   "cell_type": "code",
   "execution_count": 20,
   "metadata": {},
   "outputs": [],
   "source": [
    "def run_episode(env): # Run policy and collect (state, action, reward) pairs\n",
    "    obs = env.reset()\n",
    "    observes, actions, rewards, infos = [], [], [], []\n",
    "    done = False\n",
    "    while not done:\n",
    "        obs = obs.astype(np.float32).reshape((1, -1))\n",
    "        observes.append(obs)\n",
    "        action = env.action_space.sample().reshape((1, -1)).astype(np.float32)\n",
    "        actions.append(action)\n",
    "        obs, reward, done, info = env.step(action)\n",
    "        if not isinstance(reward, float):\n",
    "            reward = np.asscalar(reward)\n",
    "        rewards.append(reward)\n",
    "        infos.append(info)\n",
    "        \n",
    "    return (np.concatenate(observes), np.concatenate(actions), np.array(rewards, dtype=np.float32), infos)\n",
    "\n",
    "def collect_negative_demos(env, episodes, traj_length=10): # collect trajectories. if 'evaluation' is ture, then only mean value of policy distribution is used without sampling.\n",
    "    total_steps = 0\n",
    "    trajectories = []\n",
    "    for e in range(episodes):\n",
    "        observes, actions, rewards, infos = run_episode(env)\n",
    "        total_steps += observes.shape[0]\n",
    "        traj_len = len(rewards)\n",
    "        if traj_len > traj_length:\n",
    "            traj_len = traj_length\n",
    "        trajectory = {'observes': observes[-traj_len:,:],\n",
    "                      'actions': actions[-traj_len:,:],\n",
    "                      'rewards': rewards[-traj_len:],\n",
    "                      'infos': infos[-traj_len:]}\n",
    "        trajectories.append(trajectory)\n",
    "    return trajectories"
   ]
  },
  {
   "cell_type": "code",
   "execution_count": 21,
   "metadata": {},
   "outputs": [
    {
     "name": "stderr",
     "output_type": "stream",
     "text": [
      "[2018-07-04 15:21:58,544] Making new env: Hopper-v1\n"
     ]
    },
    {
     "data": {
      "text/plain": [
       "[0]"
      ]
     },
     "execution_count": 21,
     "metadata": {},
     "output_type": "execute_result"
    }
   ],
   "source": [
    "envname = 'Hopper-v1'\n",
    "env = gym.make(envname)\n",
    "env.seed(seed=seed)"
   ]
  },
  {
   "cell_type": "code",
   "execution_count": 23,
   "metadata": {},
   "outputs": [
    {
     "name": "stdout",
     "output_type": "stream",
     "text": [
      "9.967\n",
      "6.955898284912109\n"
     ]
    }
   ],
   "source": [
    "import pickle\n",
    "output = open('./'+envname+'-negative-demo.pkl', 'wb')\n",
    "trajectories = collect_negative_demos(env, episodes=1000)\n",
    "print(\"{}\".format(np.mean([len(t['rewards']) for t in trajectories])))\n",
    "print(\"{}\".format(np.mean([np.sum(t['rewards']) for t in trajectories])))\n",
    "pickle.dump([trajectories], output)\n",
    "output.close()"
   ]
  },
  {
   "cell_type": "code",
   "execution_count": null,
   "metadata": {},
   "outputs": [],
   "source": []
  }
 ],
 "metadata": {
  "kernelspec": {
   "display_name": "Python 3",
   "language": "python",
   "name": "python3"
  },
  "language_info": {
   "codemirror_mode": {
    "name": "ipython",
    "version": 3
   },
   "file_extension": ".py",
   "mimetype": "text/x-python",
   "name": "python",
   "nbconvert_exporter": "python",
   "pygments_lexer": "ipython3",
   "version": "3.5.2"
  }
 },
 "nbformat": 4,
 "nbformat_minor": 2
}
