{
 "cells": [
  {
   "cell_type": "code",
   "execution_count": 8,
   "metadata": {},
   "outputs": [],
   "source": [
    "import pickle\n",
    "import numpy as np\n",
    "import tensorflow as tf\n",
    "from sklearn.utils import shuffle\n",
    "from sklearn import decomposition\n",
    "import gym\n",
    "\n",
    "import matplotlib.pyplot as plt\n",
    "from mpl_toolkits.mplot3d import Axes3D\n",
    "%matplotlib inline"
   ]
  },
  {
   "cell_type": "code",
   "execution_count": 9,
   "metadata": {},
   "outputs": [],
   "source": [
    "# envname = 'MountainCarContinuous-v0'\n",
    "envname = 'Pendulum-v0'\n",
    "demo_file = open('./'+envname+'-demo.pkl', 'rb')\n",
    "demonstrations = pickle.load(demo_file)[0]"
   ]
  },
  {
   "cell_type": "code",
   "execution_count": 10,
   "metadata": {},
   "outputs": [],
   "source": [
    "class LatentDynamicModel(object):\n",
    "    def __init__(self, obs_dim, act_dim, hdim = 64, ldim = 64, epochs = 10000, lr = 1e-5):\n",
    "        self.obs_dim = obs_dim\n",
    "        self.act_dim = act_dim\n",
    "        \n",
    "        self.seed = 0\n",
    "        self.epochs = epochs\n",
    "        \n",
    "        self.lr = lr\n",
    "        self.hdim = hdim\n",
    "        self.ldim = ldim\n",
    "        \n",
    "        self.std = 1e-1\n",
    "        \n",
    "        self._build_graph()\n",
    "        self._init_session()\n",
    "\n",
    "    def _build_graph(self):\n",
    "        self.g = tf.Graph()\n",
    "        with self.g.as_default():\n",
    "            self._placeholders()\n",
    "            self._vae_nn()\n",
    "            self._loss_train_op()\n",
    "            self.init = tf.global_variables_initializer()\n",
    "            \n",
    "    def _placeholders(self):\n",
    "        # observations, actions and advantages:\n",
    "        self.obs_ph = tf.placeholder(tf.float32, (None, self.obs_dim), 'obs')\n",
    "        self.next_obs_ph = tf.placeholder(tf.float32, (None, self.obs_dim), 'next_obs')\n",
    "        self.latent_ph = tf.placeholder(tf.float32, (None, self.ldim), 'latent')\n",
    "        self.act_ph = tf.placeholder(tf.float32, (None, self.act_dim), 'act')\n",
    "\n",
    "        # learning rate:\n",
    "        self.lr_ph = tf.placeholder(tf.float32, (), 'lr')\n",
    "        self.coeff_dyna = tf.placeholder(tf.float32, (), 'dyna')\n",
    "        self.coeff_prior = tf.placeholder(tf.float32, (), 'prior')\n",
    "\n",
    "    def _vae_nn(self):\n",
    "        self.latent_mean, self.latent_std = self._encoder(self.obs_ph)\n",
    "        self.latent = self.latent_mean + self.latent_std*tf.random_normal(tf.shape(self.latent_mean))\n",
    "\n",
    "        self.next_latent_mean, self.next_latent_std = self._encoder(self.next_obs_ph,reuse=True)\n",
    "        self.next_latent = self.next_latent_mean + self.next_latent_std*tf.random_normal(tf.shape(self.next_latent_mean))\n",
    "        \n",
    "        self.control_dynamics, self.control_std = self._dynamics(self.latent)\n",
    "        self.next_latent_predict = self.latent + tf.reduce_sum(self.control_dynamics*tf.tile(self.act_ph[:,tf.newaxis,:],[1,self.ldim,1]))\n",
    "        \n",
    "        self.obs_recon = self._decoder(self.latent)\n",
    "        self.next_obs_recon = self._decoder(self.next_latent,reuse=True)\n",
    "        self.obs_gen = self._decoder(self.latent_ph,reuse=True)\n",
    "          \n",
    "    def _encoder(self,obs,reuse=False):\n",
    "        hid1_size = self.hdim\n",
    "        hid2_size = self.hdim\n",
    "        latent_size = self.ldim\n",
    "        \n",
    "        with tf.variable_scope(\"encoder\"):\n",
    "            out = tf.layers.dense(obs, hid1_size, tf.tanh,\n",
    "                                  kernel_initializer=tf.random_normal_initializer(stddev=0.01,seed= self.seed), name=\"h1\",\n",
    "                                  reuse=reuse)\n",
    "            out = tf.layers.dense(out, hid2_size, tf.tanh,\n",
    "                                  kernel_initializer=tf.random_normal_initializer(stddev=0.01,seed= self.seed), name=\"h2\",\n",
    "                                  reuse=reuse)\n",
    "            out = tf.layers.dense(out, hid2_size, tf.tanh,\n",
    "                                  kernel_initializer=tf.random_normal_initializer(stddev=0.01,seed= self.seed), name=\"h3\",\n",
    "                                  reuse=reuse)\n",
    "            latent_mean = tf.layers.dense(out, latent_size,\n",
    "                                    kernel_initializer=tf.random_normal_initializer(stddev=0.01,seed= self.seed), \n",
    "                                    name=\"latent_mean\",reuse=reuse)\n",
    "            latent_std_logits = tf.layers.dense(out, latent_size,\n",
    "                                    kernel_initializer=tf.random_normal_initializer(stddev=0.01,seed= self.seed), \n",
    "                                    name=\"latent_std\",reuse=reuse)\n",
    "            latent_std = self.std*tf.sigmoid(latent_std_logits)\n",
    "        return latent_mean, latent_std\n",
    "    \n",
    "    def _decoder(self,latent,reuse=False):\n",
    "        hid1_size = self.hdim\n",
    "        hid2_size = self.hdim\n",
    "        \n",
    "        with tf.variable_scope(\"decoder\"):\n",
    "            # Decoder for next state\n",
    "            out = tf.layers.dense(latent, hid1_size, tf.tanh,\n",
    "                                  kernel_initializer=tf.random_normal_initializer(stddev=0.01,seed= self.seed), name=\"h1\",\n",
    "                                  reuse=reuse)\n",
    "            out = tf.layers.dense(out, hid2_size, tf.tanh,\n",
    "                                  kernel_initializer=tf.random_normal_initializer(stddev=0.01,seed= self.seed), name=\"h2\",\n",
    "                                  reuse=reuse)\n",
    "            out = tf.layers.dense(out, hid2_size, tf.tanh,\n",
    "                                  kernel_initializer=tf.random_normal_initializer(stddev=0.01,seed= self.seed), name=\"h3\",\n",
    "                                  reuse=reuse)\n",
    "            obs = tf.layers.dense(out, self.obs_dim,\n",
    "                                    kernel_initializer=tf.random_normal_initializer(stddev=0.01,seed= self.seed), \n",
    "                                    name=\"obs\",reuse=reuse)\n",
    "        return obs\n",
    "     \n",
    "    def _dynamics(self,latent,reuse=False):\n",
    "        hid1_size = self.hdim\n",
    "        latent_size = self.ldim\n",
    "        \n",
    "        with tf.variable_scope(\"control_dynamics\"):\n",
    "            # Control Dynamics\n",
    "            out = tf.layers.dense(latent, hid1_size, tf.tanh,\n",
    "                                  kernel_initializer=tf.random_normal_initializer(stddev=0.01,seed= self.seed), name=\"h1\",\n",
    "                                  reuse=reuse)\n",
    "            out = tf.layers.dense(out, hid1_size, tf.tanh,\n",
    "                                  kernel_initializer=tf.random_normal_initializer(stddev=0.01,seed= self.seed), name=\"h2\",\n",
    "                                  reuse=reuse)\n",
    "            out = tf.layers.dense(out, hid1_size, tf.tanh,\n",
    "                                  kernel_initializer=tf.random_normal_initializer(stddev=0.01,seed= self.seed), name=\"h3\",\n",
    "                                  reuse=reuse)\n",
    "            control_std_logits = tf.layers.dense(out, latent_size,\n",
    "                                  kernel_initializer=tf.random_normal_initializer(stddev=0.01,seed= self.seed), name=\"std_dynamics\",\n",
    "                                  reuse=reuse)\n",
    "            control_std = self.std*tf.sigmoid(control_std_logits)\n",
    "            control_dynamics_flatten = tf.layers.dense(out, latent_size*self.act_dim,\n",
    "                                  kernel_initializer=tf.random_normal_initializer(stddev=0.01,seed= self.seed), name=\"flatten_dynamics\",\n",
    "                                  reuse=reuse)\n",
    "            control_dynamics = tf.reshape(control_dynamics_flatten,[-1,latent_size,self.act_dim], name=\"control_dynamics\")\n",
    "            \n",
    "        return control_dynamics, control_std\n",
    "    \n",
    "    def _loss_train_op(self):\n",
    "        reconstruction_loss = tf.reduce_sum(tf.squared_difference(self.obs_recon,self.obs_ph))\n",
    "        next_reconstruction_loss = tf.reduce_sum(tf.squared_difference(self.next_obs_recon,self.next_obs_ph))\n",
    "        kl_dyna_loss = -0.5*tf.reduce_sum(1+2*tf.log(self.control_std)-2*tf.log(self.next_latent_std)\\\n",
    "                                         - tf.square((self.next_latent_predict - self.next_latent_mean)/self.next_latent_std) - tf.square(self.control_std/self.next_latent_std),axis=1)\n",
    "        kl_prior_loss = -0.5 * tf.reduce_sum(1 + 2*tf.log(self.latent_std)\\\n",
    "                                             - tf.square(self.latent_mean) - tf.square(self.latent_std), axis=1) \n",
    "        self.reconstruction_loss = tf.reduce_mean(reconstruction_loss)\n",
    "        self.next_reconstruction_loss = tf.reduce_mean(next_reconstruction_loss)\n",
    "        self.kl_dyna_loss = tf.reduce_mean(kl_dyna_loss)\n",
    "        self.kl_prior_loss = tf.reduce_mean(kl_prior_loss)\n",
    "        \n",
    "        self.vae_loss = self.reconstruction_loss + self.next_reconstruction_loss +  self.coeff_dyna*self.kl_dyna_loss +  self.coeff_prior*self.kl_prior_loss\n",
    "        \n",
    "        # OPTIMIZER \n",
    "        optimizer = tf.train.AdamOptimizer(self.lr_ph)\n",
    "        self.train_op = optimizer.minimize(self.vae_loss)\n",
    "    \n",
    "    def _init_session(self):\n",
    "        config = tf.ConfigProto()\n",
    "        config.gpu_options.allow_growth = True\n",
    "        self.sess = tf.Session(config=config,graph=self.g)\n",
    "        self.sess.run(self.init)\n",
    "        \n",
    "    def encode(self,obs):\n",
    "        return self.sess.run(self.latent_mean,feed_dict={self.obs_ph:obs})\n",
    "    \n",
    "    def decode(self,latent):\n",
    "        return self.sess.run(self.obs_gen,feed_dict={self.latent_ph:latent})\n",
    "        \n",
    "    def get_control_dynamics(self,obs):\n",
    "        return self.sess.run(self.control_dynamics,feed_dict={self.obs_ph:obs})\n",
    "    \n",
    "    def train(self,obs,act,next_obs,batch_size = 1024):\n",
    "    \n",
    "        num_batches = max(obs.shape[0] // batch_size, 1)\n",
    "        batch_size = obs.shape[0] // num_batches\n",
    "        \n",
    "        coeff_dyna = 1e0\n",
    "        coeff_prior = 1e-5\n",
    "                \n",
    "        for e in range(self.epochs+1):\n",
    "            obs,act,next_obs = shuffle(obs,act,next_obs,random_state=0)\n",
    "            for j in range(num_batches):\n",
    "                start = j * batch_size\n",
    "                end = (j + 1) * batch_size\n",
    "                feed_dict = {self.obs_ph: obs[start:end,:],\n",
    "                             self.act_ph: act[start:end,:],\n",
    "                             self.next_obs_ph: next_obs[start:end,:],\n",
    "                             self.lr_ph: self.lr, self.coeff_dyna:coeff_dyna, self.coeff_prior:coeff_prior}        \n",
    "                self.sess.run(self.train_op, feed_dict)\n",
    "            \n",
    "            if e < self.epochs/3:\n",
    "                self.lr = 1e-4\n",
    "            elif e < 2*self.epochs/3:\n",
    "                self.lr = 1e-5\n",
    "            else:\n",
    "                self.lr = 1e-6\n",
    "\n",
    "            if (e%500)==0:\n",
    "                feed_dict = {self.obs_ph: obs,self.act_ph: act,self.next_obs_ph: next_obs, self.lr_ph: self.lr,self.coeff_dyna:coeff_dyna, self.coeff_prior:coeff_prior} \n",
    "                vae_loss, recon_loss, kl_dyna_loss, kl_prior_loss = self.sess.run([self.vae_loss,self.reconstruction_loss,self.kl_dyna_loss,self.kl_prior_loss], feed_dict)\n",
    "                print('[{:05d}/{:05d}] Total : {:.03f}, Recon : {:.03f}, KL Dist : {:.03f}, KL Prior : {:.03f}'.format(e, self.epochs, vae_loss, recon_loss, kl_dyna_loss, kl_prior_loss))\n",
    "        return vae_loss"
   ]
  },
  {
   "cell_type": "code",
   "execution_count": 11,
   "metadata": {},
   "outputs": [
    {
     "name": "stderr",
     "output_type": "stream",
     "text": [
      "[2018-07-03 04:43:10,183] Making new env: Pendulum-v0\n"
     ]
    },
    {
     "name": "stdout",
     "output_type": "stream",
     "text": [
      "[1. 1. 8.]\n",
      "[-1. -1. -8.]\n"
     ]
    }
   ],
   "source": [
    "env = gym.make(envname)\n",
    "\n",
    "env.seed(seed=0)\n",
    "\n",
    "obs_dim = env.observation_space.shape[0]\n",
    "act_dim = env.action_space.shape[0]\n",
    "\n",
    "print(env.observation_space.high)\n",
    "print(env.observation_space.low)"
   ]
  },
  {
   "cell_type": "code",
   "execution_count": 12,
   "metadata": {},
   "outputs": [
    {
     "name": "stdout",
     "output_type": "stream",
     "text": [
      "(19900, 3)\n",
      "(19900, 1)\n",
      "(19900, 3)\n"
     ]
    }
   ],
   "source": [
    "obs = np.concatenate([t['observes'][:-1] for t in demonstrations])\n",
    "act = np.concatenate([t['actions'][:-1] for t in demonstrations])\n",
    "next_obs = np.concatenate([t['observes'][1:] for t in demonstrations])\n",
    "print(obs.shape)\n",
    "print(act.shape)\n",
    "print(next_obs.shape)"
   ]
  },
  {
   "cell_type": "code",
   "execution_count": 13,
   "metadata": {
    "scrolled": true
   },
   "outputs": [
    {
     "name": "stdout",
     "output_type": "stream",
     "text": [
      "[00000/30000] Total : 118224.414, Recon : 59699.957, KL Dist : 62.546, KL Prior : 159.804\n",
      "[00500/30000] Total : 4100.062, Recon : 2126.960, KL Dist : 55.620, KL Prior : 157.268\n",
      "[01000/30000] Total : 408.251, Recon : 81.810, KL Dist : 245.622, KL Prior : 155.390\n",
      "[01500/30000] Total : 166.757, Recon : 64.353, KL Dist : 38.995, KL Prior : 142.415\n",
      "[02000/30000] Total : 160.411, Recon : 61.552, KL Dist : 38.068, KL Prior : 129.527\n",
      "[02500/30000] Total : 150.381, Recon : 56.470, KL Dist : 38.895, KL Prior : 126.351\n",
      "[03000/30000] Total : 150.940, Recon : 55.128, KL Dist : 40.244, KL Prior : 123.098\n",
      "[03500/30000] Total : 145.112, Recon : 54.004, KL Dist : 38.003, KL Prior : 121.918\n"
     ]
    },
    {
     "ename": "KeyboardInterrupt",
     "evalue": "",
     "output_type": "error",
     "traceback": [
      "\u001b[0;31m---------------------------------------------------------------------------\u001b[0m",
      "\u001b[0;31mKeyboardInterrupt\u001b[0m                         Traceback (most recent call last)",
      "\u001b[0;32m<ipython-input-13-aa9e8863c3c7>\u001b[0m in \u001b[0;36m<module>\u001b[0;34m()\u001b[0m\n\u001b[1;32m      4\u001b[0m \u001b[0mnz_act\u001b[0m \u001b[0;34m=\u001b[0m \u001b[0mact\u001b[0m\u001b[0;34m/\u001b[0m\u001b[0mnp\u001b[0m\u001b[0;34m.\u001b[0m\u001b[0mmax\u001b[0m\u001b[0;34m(\u001b[0m\u001b[0mnp\u001b[0m\u001b[0;34m.\u001b[0m\u001b[0mabs\u001b[0m\u001b[0;34m(\u001b[0m\u001b[0mact\u001b[0m\u001b[0;34m)\u001b[0m\u001b[0;34m,\u001b[0m\u001b[0maxis\u001b[0m\u001b[0;34m=\u001b[0m\u001b[0;36m0\u001b[0m\u001b[0;34m,\u001b[0m\u001b[0mkeepdims\u001b[0m\u001b[0;34m=\u001b[0m\u001b[0;32mTrue\u001b[0m\u001b[0;34m)\u001b[0m\u001b[0;34m\u001b[0m\u001b[0m\n\u001b[1;32m      5\u001b[0m \u001b[0mvae\u001b[0m\u001b[0;34m.\u001b[0m\u001b[0mepochs\u001b[0m \u001b[0;34m=\u001b[0m \u001b[0;36m30000\u001b[0m\u001b[0;34m\u001b[0m\u001b[0m\n\u001b[0;32m----> 6\u001b[0;31m \u001b[0mvae\u001b[0m\u001b[0;34m.\u001b[0m\u001b[0mtrain\u001b[0m\u001b[0;34m(\u001b[0m\u001b[0mnz_obs\u001b[0m\u001b[0;34m,\u001b[0m\u001b[0mnz_act\u001b[0m\u001b[0;34m,\u001b[0m\u001b[0mnz_next_obs\u001b[0m\u001b[0;34m)\u001b[0m\u001b[0;34m\u001b[0m\u001b[0m\n\u001b[0m",
      "\u001b[0;32m<ipython-input-10-c67aad05ccb7>\u001b[0m in \u001b[0;36mtrain\u001b[0;34m(self, obs, act, next_obs, batch_size)\u001b[0m\n\u001b[1;32m    168\u001b[0m                              \u001b[0mself\u001b[0m\u001b[0;34m.\u001b[0m\u001b[0mnext_obs_ph\u001b[0m\u001b[0;34m:\u001b[0m \u001b[0mnext_obs\u001b[0m\u001b[0;34m[\u001b[0m\u001b[0mstart\u001b[0m\u001b[0;34m:\u001b[0m\u001b[0mend\u001b[0m\u001b[0;34m,\u001b[0m\u001b[0;34m:\u001b[0m\u001b[0;34m]\u001b[0m\u001b[0;34m,\u001b[0m\u001b[0;34m\u001b[0m\u001b[0m\n\u001b[1;32m    169\u001b[0m                              self.lr_ph: self.lr, self.coeff_dyna:coeff_dyna, self.coeff_prior:coeff_prior}        \n\u001b[0;32m--> 170\u001b[0;31m                 \u001b[0mself\u001b[0m\u001b[0;34m.\u001b[0m\u001b[0msess\u001b[0m\u001b[0;34m.\u001b[0m\u001b[0mrun\u001b[0m\u001b[0;34m(\u001b[0m\u001b[0mself\u001b[0m\u001b[0;34m.\u001b[0m\u001b[0mtrain_op\u001b[0m\u001b[0;34m,\u001b[0m \u001b[0mfeed_dict\u001b[0m\u001b[0;34m)\u001b[0m\u001b[0;34m\u001b[0m\u001b[0m\n\u001b[0m\u001b[1;32m    171\u001b[0m \u001b[0;34m\u001b[0m\u001b[0m\n\u001b[1;32m    172\u001b[0m             \u001b[0;32mif\u001b[0m \u001b[0me\u001b[0m \u001b[0;34m<\u001b[0m \u001b[0mself\u001b[0m\u001b[0;34m.\u001b[0m\u001b[0mepochs\u001b[0m\u001b[0;34m/\u001b[0m\u001b[0;36m3\u001b[0m\u001b[0;34m:\u001b[0m\u001b[0;34m\u001b[0m\u001b[0m\n",
      "\u001b[0;32m/usr/local/lib/python3.5/dist-packages/tensorflow/python/client/session.py\u001b[0m in \u001b[0;36mrun\u001b[0;34m(self, fetches, feed_dict, options, run_metadata)\u001b[0m\n\u001b[1;32m    898\u001b[0m     \u001b[0;32mtry\u001b[0m\u001b[0;34m:\u001b[0m\u001b[0;34m\u001b[0m\u001b[0m\n\u001b[1;32m    899\u001b[0m       result = self._run(None, fetches, feed_dict, options_ptr,\n\u001b[0;32m--> 900\u001b[0;31m                          run_metadata_ptr)\n\u001b[0m\u001b[1;32m    901\u001b[0m       \u001b[0;32mif\u001b[0m \u001b[0mrun_metadata\u001b[0m\u001b[0;34m:\u001b[0m\u001b[0;34m\u001b[0m\u001b[0m\n\u001b[1;32m    902\u001b[0m         \u001b[0mproto_data\u001b[0m \u001b[0;34m=\u001b[0m \u001b[0mtf_session\u001b[0m\u001b[0;34m.\u001b[0m\u001b[0mTF_GetBuffer\u001b[0m\u001b[0;34m(\u001b[0m\u001b[0mrun_metadata_ptr\u001b[0m\u001b[0;34m)\u001b[0m\u001b[0;34m\u001b[0m\u001b[0m\n",
      "\u001b[0;32m/usr/local/lib/python3.5/dist-packages/tensorflow/python/client/session.py\u001b[0m in \u001b[0;36m_run\u001b[0;34m(self, handle, fetches, feed_dict, options, run_metadata)\u001b[0m\n\u001b[1;32m   1133\u001b[0m     \u001b[0;32mif\u001b[0m \u001b[0mfinal_fetches\u001b[0m \u001b[0;32mor\u001b[0m \u001b[0mfinal_targets\u001b[0m \u001b[0;32mor\u001b[0m \u001b[0;34m(\u001b[0m\u001b[0mhandle\u001b[0m \u001b[0;32mand\u001b[0m \u001b[0mfeed_dict_tensor\u001b[0m\u001b[0;34m)\u001b[0m\u001b[0;34m:\u001b[0m\u001b[0;34m\u001b[0m\u001b[0m\n\u001b[1;32m   1134\u001b[0m       results = self._do_run(handle, final_targets, final_fetches,\n\u001b[0;32m-> 1135\u001b[0;31m                              feed_dict_tensor, options, run_metadata)\n\u001b[0m\u001b[1;32m   1136\u001b[0m     \u001b[0;32melse\u001b[0m\u001b[0;34m:\u001b[0m\u001b[0;34m\u001b[0m\u001b[0m\n\u001b[1;32m   1137\u001b[0m       \u001b[0mresults\u001b[0m \u001b[0;34m=\u001b[0m \u001b[0;34m[\u001b[0m\u001b[0;34m]\u001b[0m\u001b[0;34m\u001b[0m\u001b[0m\n",
      "\u001b[0;32m/usr/local/lib/python3.5/dist-packages/tensorflow/python/client/session.py\u001b[0m in \u001b[0;36m_do_run\u001b[0;34m(self, handle, target_list, fetch_list, feed_dict, options, run_metadata)\u001b[0m\n\u001b[1;32m   1314\u001b[0m     \u001b[0;32mif\u001b[0m \u001b[0mhandle\u001b[0m \u001b[0;32mis\u001b[0m \u001b[0;32mNone\u001b[0m\u001b[0;34m:\u001b[0m\u001b[0;34m\u001b[0m\u001b[0m\n\u001b[1;32m   1315\u001b[0m       return self._do_call(_run_fn, feeds, fetches, targets, options,\n\u001b[0;32m-> 1316\u001b[0;31m                            run_metadata)\n\u001b[0m\u001b[1;32m   1317\u001b[0m     \u001b[0;32melse\u001b[0m\u001b[0;34m:\u001b[0m\u001b[0;34m\u001b[0m\u001b[0m\n\u001b[1;32m   1318\u001b[0m       \u001b[0;32mreturn\u001b[0m \u001b[0mself\u001b[0m\u001b[0;34m.\u001b[0m\u001b[0m_do_call\u001b[0m\u001b[0;34m(\u001b[0m\u001b[0m_prun_fn\u001b[0m\u001b[0;34m,\u001b[0m \u001b[0mhandle\u001b[0m\u001b[0;34m,\u001b[0m \u001b[0mfeeds\u001b[0m\u001b[0;34m,\u001b[0m \u001b[0mfetches\u001b[0m\u001b[0;34m)\u001b[0m\u001b[0;34m\u001b[0m\u001b[0m\n",
      "\u001b[0;32m/usr/local/lib/python3.5/dist-packages/tensorflow/python/client/session.py\u001b[0m in \u001b[0;36m_do_call\u001b[0;34m(self, fn, *args)\u001b[0m\n\u001b[1;32m   1320\u001b[0m   \u001b[0;32mdef\u001b[0m \u001b[0m_do_call\u001b[0m\u001b[0;34m(\u001b[0m\u001b[0mself\u001b[0m\u001b[0;34m,\u001b[0m \u001b[0mfn\u001b[0m\u001b[0;34m,\u001b[0m \u001b[0;34m*\u001b[0m\u001b[0margs\u001b[0m\u001b[0;34m)\u001b[0m\u001b[0;34m:\u001b[0m\u001b[0;34m\u001b[0m\u001b[0m\n\u001b[1;32m   1321\u001b[0m     \u001b[0;32mtry\u001b[0m\u001b[0;34m:\u001b[0m\u001b[0;34m\u001b[0m\u001b[0m\n\u001b[0;32m-> 1322\u001b[0;31m       \u001b[0;32mreturn\u001b[0m \u001b[0mfn\u001b[0m\u001b[0;34m(\u001b[0m\u001b[0;34m*\u001b[0m\u001b[0margs\u001b[0m\u001b[0;34m)\u001b[0m\u001b[0;34m\u001b[0m\u001b[0m\n\u001b[0m\u001b[1;32m   1323\u001b[0m     \u001b[0;32mexcept\u001b[0m \u001b[0merrors\u001b[0m\u001b[0;34m.\u001b[0m\u001b[0mOpError\u001b[0m \u001b[0;32mas\u001b[0m \u001b[0me\u001b[0m\u001b[0;34m:\u001b[0m\u001b[0;34m\u001b[0m\u001b[0m\n\u001b[1;32m   1324\u001b[0m       \u001b[0mmessage\u001b[0m \u001b[0;34m=\u001b[0m \u001b[0mcompat\u001b[0m\u001b[0;34m.\u001b[0m\u001b[0mas_text\u001b[0m\u001b[0;34m(\u001b[0m\u001b[0me\u001b[0m\u001b[0;34m.\u001b[0m\u001b[0mmessage\u001b[0m\u001b[0;34m)\u001b[0m\u001b[0;34m\u001b[0m\u001b[0m\n",
      "\u001b[0;32m/usr/local/lib/python3.5/dist-packages/tensorflow/python/client/session.py\u001b[0m in \u001b[0;36m_run_fn\u001b[0;34m(feed_dict, fetch_list, target_list, options, run_metadata)\u001b[0m\n\u001b[1;32m   1305\u001b[0m       \u001b[0mself\u001b[0m\u001b[0;34m.\u001b[0m\u001b[0m_extend_graph\u001b[0m\u001b[0;34m(\u001b[0m\u001b[0;34m)\u001b[0m\u001b[0;34m\u001b[0m\u001b[0m\n\u001b[1;32m   1306\u001b[0m       return self._call_tf_sessionrun(\n\u001b[0;32m-> 1307\u001b[0;31m           options, feed_dict, fetch_list, target_list, run_metadata)\n\u001b[0m\u001b[1;32m   1308\u001b[0m \u001b[0;34m\u001b[0m\u001b[0m\n\u001b[1;32m   1309\u001b[0m     \u001b[0;32mdef\u001b[0m \u001b[0m_prun_fn\u001b[0m\u001b[0;34m(\u001b[0m\u001b[0mhandle\u001b[0m\u001b[0;34m,\u001b[0m \u001b[0mfeed_dict\u001b[0m\u001b[0;34m,\u001b[0m \u001b[0mfetch_list\u001b[0m\u001b[0;34m)\u001b[0m\u001b[0;34m:\u001b[0m\u001b[0;34m\u001b[0m\u001b[0m\n",
      "\u001b[0;32m/usr/local/lib/python3.5/dist-packages/tensorflow/python/client/session.py\u001b[0m in \u001b[0;36m_call_tf_sessionrun\u001b[0;34m(self, options, feed_dict, fetch_list, target_list, run_metadata)\u001b[0m\n\u001b[1;32m   1407\u001b[0m       return tf_session.TF_SessionRun_wrapper(\n\u001b[1;32m   1408\u001b[0m           \u001b[0mself\u001b[0m\u001b[0;34m.\u001b[0m\u001b[0m_session\u001b[0m\u001b[0;34m,\u001b[0m \u001b[0moptions\u001b[0m\u001b[0;34m,\u001b[0m \u001b[0mfeed_dict\u001b[0m\u001b[0;34m,\u001b[0m \u001b[0mfetch_list\u001b[0m\u001b[0;34m,\u001b[0m \u001b[0mtarget_list\u001b[0m\u001b[0;34m,\u001b[0m\u001b[0;34m\u001b[0m\u001b[0m\n\u001b[0;32m-> 1409\u001b[0;31m           run_metadata)\n\u001b[0m\u001b[1;32m   1410\u001b[0m     \u001b[0;32melse\u001b[0m\u001b[0;34m:\u001b[0m\u001b[0;34m\u001b[0m\u001b[0m\n\u001b[1;32m   1411\u001b[0m       \u001b[0;32mwith\u001b[0m \u001b[0merrors\u001b[0m\u001b[0;34m.\u001b[0m\u001b[0mraise_exception_on_not_ok_status\u001b[0m\u001b[0;34m(\u001b[0m\u001b[0;34m)\u001b[0m \u001b[0;32mas\u001b[0m \u001b[0mstatus\u001b[0m\u001b[0;34m:\u001b[0m\u001b[0;34m\u001b[0m\u001b[0m\n",
      "\u001b[0;31mKeyboardInterrupt\u001b[0m: "
     ]
    }
   ],
   "source": [
    "vae = LatentDynamicModel(obs_dim,act_dim,hdim=128,ldim=64)\n",
    "nz_obs = (obs - np.mean(obs,axis=0,keepdims=True))/np.std(obs,axis=0,keepdims=True)\n",
    "nz_next_obs = (next_obs - np.mean(obs,axis=0,keepdims=True))/np.std(obs,axis=0,keepdims=True)\n",
    "nz_act = act/np.max(np.abs(act),axis=0,keepdims=True)\n",
    "vae.epochs = 30000\n",
    "vae.train(nz_obs,nz_act,nz_next_obs)"
   ]
  },
  {
   "cell_type": "code",
   "execution_count": 22,
   "metadata": {},
   "outputs": [
    {
     "data": {
      "image/png": "[encoded data removed]",
      "text/plain": [
       "<Figure size 1152x576 with 1 Axes>"
      ]
     },
     "metadata": {},
     "output_type": "display_data"
    }
   ],
   "source": [
    "latent = vae.encode(nz_obs)\n",
    "# latent = vae.encode(data['obs'][2][:10,2:])\n",
    "pca = decomposition.PCA(n_components=2)\n",
    "pca.fit(latent)\n",
    "observes_demo_pca = pca.transform(latent)\n",
    "\n",
    "fig = plt.figure(figsize=(16, 8))\n",
    "plt.plot(observes_demo_pca[:,0],observes_demo_pca[:,1],'r+')\n",
    "plt.show()\n",
    "# fig = plt.figure(figsize=(16, 8))\n",
    "# ax = fig.add_subplot(121, projection='3d')\n",
    "# ax.view_init(90, 60)\n",
    "# plt.plot(observes_demo_pca[:,0],observes_demo_pca[:,1],observes_demo_pca[:,2],marker='+',c='b')\n",
    "# ax = fig.add_subplot(122, projection='3d')\n",
    "# ax.view_init(30, 30)\n",
    "# plt.plot(observes_demo_pca[:,0],observes_demo_pca[:,1],observes_demo_pca[:,2],marker='+',c='b')\n",
    "# plt.show()"
   ]
  },
  {
   "cell_type": "code",
   "execution_count": 15,
   "metadata": {},
   "outputs": [],
   "source": [
    "class Value(object):\n",
    "    def __init__(self, act_dim, hdim = 16, ldim = 4, epochs = 10000, lr = 1e-3):\n",
    "        self.act_dim = act_dim\n",
    "        self.seed = 0\n",
    "        self.epochs = epochs\n",
    "        self.lr = lr\n",
    "        self.hdim = hdim\n",
    "        self.ldim = ldim\n",
    "        \n",
    "        self._build_graph()\n",
    "        self._init_session()\n",
    "\n",
    "    def _build_graph(self):\n",
    "        self.g = tf.Graph()\n",
    "        with self.g.as_default():\n",
    "            self._placeholders()\n",
    "            self._policy_nn()\n",
    "            self._loss_train_op()\n",
    "            self.init = tf.global_variables_initializer()\n",
    "            self.variables = tf.global_variables()\n",
    "            \n",
    "    def _placeholders(self):\n",
    "        # observations, actions and advantages:\n",
    "        self.latent_ph = tf.placeholder(tf.float32, (None, self.ldim), 'latent')\n",
    "        self.control_dynamics_ph = tf.placeholder(tf.float32, (None, self.ldim, self.act_dim), 'control_dynamics')\n",
    "        self.control_ph = tf.placeholder(tf.float32, (None, self.act_dim), 'control')\n",
    "\n",
    "        # learning rate:\n",
    "        self.lr_ph = tf.placeholder(tf.float32, (), 'lr')\n",
    "\n",
    "    def _policy_nn(self):\n",
    "        \n",
    "        hid1_size = self.hdim\n",
    "        hid2_size = self.hdim\n",
    "        latent_size = self.ldim\n",
    "        \n",
    "        with tf.variable_scope(\"value_network\"):\n",
    "            # Encoder\n",
    "            out = tf.layers.dense(self.latent_ph, hid1_size, tf.nn.relu,\n",
    "                                  kernel_initializer=tf.random_normal_initializer(stddev=0.01,seed= self.seed), name=\"h1\")\n",
    "            out = tf.layers.dense(out, hid2_size, tf.cosh,\n",
    "                                  kernel_initializer=tf.random_normal_initializer(stddev=0.01,seed= self.seed), name=\"h2\")\n",
    "#             out = tf.layers.dense(out, hid2_size, tf.tanh,\n",
    "#                                   kernel_initializer=tf.random_normal_initializer(stddev=0.01,seed= self.seed), name=\"h3\")\n",
    "            self.value = tf.layers.dense(out, 1,\n",
    "                                    kernel_initializer=tf.random_normal_initializer(stddev=0.01,seed= self.seed), \n",
    "                                    name=\"value\")\n",
    "            self.value_gradients = tf.gradients(self.value,self.latent_ph,name=\"value_grads\")[0]\n",
    "            self.control = - tf.reduce_sum(tf.tile(self.value_gradients[:,:,tf.newaxis],[1,1,self.act_dim])*self.control_dynamics_ph,axis=1)\n",
    "\n",
    "    def _loss_train_op(self):        \n",
    "        # Sum up\n",
    "        loss = tf.square(self.control_ph - self.control)\n",
    "        self.loss = tf.reduce_mean(loss)\n",
    "        \n",
    "        # OPTIMIZER \n",
    "        optimizer = tf.train.AdamOptimizer(self.lr_ph)\n",
    "        self.train_op = optimizer.minimize(self.loss)\n",
    "    \n",
    "    def _init_session(self):\n",
    "        config = tf.ConfigProto()\n",
    "        config.gpu_options.allow_growth = True\n",
    "        self.sess = tf.Session(config=config,graph=self.g)\n",
    "        self.sess.run(self.init)\n",
    "    \n",
    "    def get_control(self,latent,control_dynamics):\n",
    "        ctrl, val = self.sess.run([self.control, self.value],feed_dict={self.latent_ph:latent,self.control_dynamics_ph:control_dynamics})\n",
    "        return ctrl, val\n",
    "#     def get_prediction_trajectory(self,obs,actions):\n",
    "        \n",
    "#         for act in actions\n",
    "    \n",
    "    def train(self,latent,control_dynamics,control,batch_size = 1024): # TRAIN POLICY\n",
    "        \n",
    "        num_batches = max(obs.shape[0] // batch_size, 1)\n",
    "        batch_size = obs.shape[0] // num_batches\n",
    "        \n",
    "        for e in range(self.epochs+1):\n",
    "            latent,control_dynamics,control = shuffle(latent,control_dynamics,control,random_state=0)\n",
    "            for j in range(num_batches):\n",
    "                start = j * batch_size\n",
    "                end = (j + 1) * batch_size\n",
    "                feed_dict = {self.latent_ph: latent[start:end,:],\n",
    "                     self.control_dynamics_ph: control_dynamics[start:end,:,:],\n",
    "                     self.control_ph: control[start:end,:],\n",
    "                     self.lr_ph: self.lr}        \n",
    "                self.sess.run(self.train_op, feed_dict)\n",
    "            \n",
    "            if e < self.epochs/3:\n",
    "                self.lr = 1e-3\n",
    "            elif e < 2*self.epochs/3:\n",
    "                self.lr = 1e-4\n",
    "            else:\n",
    "                self.lr = 1e-5\n",
    "\n",
    "            if (e%500)==0:\n",
    "                feed_dict = {self.latent_ph: latent,\n",
    "                     self.control_dynamics_ph: control_dynamics,\n",
    "                     self.control_ph: control}        \n",
    "                loss = self.sess.run(self.loss, feed_dict)\n",
    "                print('[{}/{}] Loss : {:f}'.\n",
    "                      format(e, self.epochs, loss))\n",
    "        return loss"
   ]
  },
  {
   "cell_type": "code",
   "execution_count": 17,
   "metadata": {},
   "outputs": [
    {
     "name": "stdout",
     "output_type": "stream",
     "text": [
      "[0/3000] Loss : 0.033052\n",
      "[500/3000] Loss : 0.007220\n",
      "[1000/3000] Loss : 0.007131\n",
      "[1500/3000] Loss : 0.007049\n",
      "[2000/3000] Loss : 0.007042\n",
      "[2500/3000] Loss : 0.007024\n",
      "[3000/3000] Loss : 0.007018\n"
     ]
    },
    {
     "data": {
      "text/plain": [
       "0.0070182104"
      ]
     },
     "execution_count": 17,
     "metadata": {},
     "output_type": "execute_result"
    }
   ],
   "source": [
    "value = Value(act_dim,hdim=128,ldim=64)\n",
    "\n",
    "latent = vae.encode(nz_obs)\n",
    "control_dynamics = vae.get_control_dynamics(nz_obs)\n",
    "value.epochs = 3000\n",
    "value.train(latent,control_dynamics,nz_act)"
   ]
  },
  {
   "cell_type": "code",
   "execution_count": 24,
   "metadata": {},
   "outputs": [
    {
     "name": "stdout",
     "output_type": "stream",
     "text": [
      "-236.58694\n"
     ]
    },
    {
     "data": {
      "image/png": "[encoded data removed]",
      "text/plain": [
       "<Figure size 432x288 with 1 Axes>"
      ]
     },
     "metadata": {},
     "output_type": "display_data"
    },
    {
     "data": {
      "image/png": "[encoded data removed]",
      "text/plain": [
       "<Figure size 432x288 with 1 Axes>"
      ]
     },
     "metadata": {},
     "output_type": "display_data"
    }
   ],
   "source": [
    "observation = env.reset()\n",
    "rewards = []\n",
    "vals = []\n",
    "frames = []\n",
    "done = False\n",
    "while not done:\n",
    "    \n",
    "    nz_observation = (observation - np.mean(obs,axis=0))/np.std(obs,axis=0)\n",
    "    latent = vae.encode([nz_observation])\n",
    "    control_dynamic = vae.get_control_dynamics([nz_observation])\n",
    "    nz_action, val = value.get_control(latent,control_dynamic)\n",
    "#     nz_action = np.clip(nz_action,-1,1)\n",
    "    action = nz_action*np.max(np.abs(act),axis=0)\n",
    "    observation, reward, done, info = env.step(action)\n",
    "    frames.append(env.render(\"rgb_array\"))\n",
    "    observation = np.squeeze(observation)\n",
    "    rewards.append(reward)\n",
    "    vals.append(-val[0][0])\n",
    "\n",
    "# env.close()\n",
    "\n",
    "print(np.sum(rewards))\n",
    "plt.figure()\n",
    "plt.plot(vals)\n",
    "plt.figure()\n",
    "plt.plot(np.cumsum(rewards))\n",
    "plt.show()"
   ]
  },
  {
   "cell_type": "code",
   "execution_count": 25,
   "metadata": {},
   "outputs": [],
   "source": [
    "import skvideo.io\n",
    "outputdata = np.asarray(frames).astype(np.uint8)\n",
    "skvideo.io.vwrite(envname+\"-ioc_pos.mp4\", outputdata)"
   ]
  },
  {
   "cell_type": "code",
   "execution_count": null,
   "metadata": {},
   "outputs": [],
   "source": []
  }
 ],
 "metadata": {
  "kernelspec": {
   "display_name": "Python 3",
   "language": "python",
   "name": "python3"
  },
  "language_info": {
   "codemirror_mode": {
    "name": "ipython",
    "version": 3
   },
   "file_extension": ".py",
   "mimetype": "text/x-python",
   "name": "python",
   "nbconvert_exporter": "python",
   "pygments_lexer": "ipython3",
   "version": "3.5.2"
  }
 },
 "nbformat": 4,
 "nbformat_minor": 2
}
